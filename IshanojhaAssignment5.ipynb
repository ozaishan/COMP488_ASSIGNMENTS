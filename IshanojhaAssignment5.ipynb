{
 "cells": [
  {
   "cell_type": "markdown",
   "id": "420c998b",
   "metadata": {},
   "source": [
    "<h1>Submitted by : Shreyash Poudel , CS-21, ASSIGNMENT NO : 5 </h1>"
   ]
  },
  {
   "cell_type": "code",
   "execution_count": 1,
   "id": "4e2f920a",
   "metadata": {},
   "outputs": [
    {
     "name": "stdout",
     "output_type": "stream",
     "text": [
      "WARNING:tensorflow:From C:\\Users\\Nitro\\AppData\\Local\\Temp\\ipykernel_17772\\4045725218.py:10: The name tf.disable_v2_behavior is deprecated. Please use tf.compat.v1.disable_v2_behavior instead.\n",
      "\n",
      "WARNING:tensorflow:From C:\\Users\\Nitro\\AppData\\Roaming\\Python\\Python312\\site-packages\\tensorflow\\python\\compat\\v2_compat.py:98: disable_resource_variables (from tensorflow.python.ops.resource_variables_toggle) is deprecated and will be removed in a future version.\n",
      "Instructions for updating:\n",
      "non-resource variables are not supported in the long term\n"
     ]
    }
   ],
   "source": [
    "import numpy as np\n",
    "import pandas as pd\n",
    "from sklearn.preprocessing import StandardScaler\n",
    "import matplotlib.pyplot as plt\n",
    "import tensorflow.compat.v1 as tf\n",
    "import warnings\n",
    "import logging\n",
    "\n",
    "# Disable TensorFlow v2 behavior to use v1-style code\n",
    "tf.disable_v2_behavior()\n",
    "\n",
    "\n"
   ]
  },
  {
   "cell_type": "code",
   "execution_count": 2,
   "id": "b3953bf7",
   "metadata": {},
   "outputs": [
    {
     "data": {
      "text/html": [
       "<div>\n",
       "<style scoped>\n",
       "    .dataframe tbody tr th:only-of-type {\n",
       "        vertical-align: middle;\n",
       "    }\n",
       "\n",
       "    .dataframe tbody tr th {\n",
       "        vertical-align: top;\n",
       "    }\n",
       "\n",
       "    .dataframe thead th {\n",
       "        text-align: right;\n",
       "    }\n",
       "</style>\n",
       "<table border=\"1\" class=\"dataframe\">\n",
       "  <thead>\n",
       "    <tr style=\"text-align: right;\">\n",
       "      <th></th>\n",
       "      <th>Date</th>\n",
       "      <th>Symbol</th>\n",
       "      <th>Open</th>\n",
       "      <th>High</th>\n",
       "      <th>Low</th>\n",
       "      <th>Close</th>\n",
       "      <th>Volume From</th>\n",
       "      <th>Volume To</th>\n",
       "    </tr>\n",
       "  </thead>\n",
       "  <tbody>\n",
       "    <tr>\n",
       "      <th>0</th>\n",
       "      <td>5/26/2018</td>\n",
       "      <td>BTCUSD</td>\n",
       "      <td>7459.11</td>\n",
       "      <td>7640.46</td>\n",
       "      <td>7380.00</td>\n",
       "      <td>7520.00</td>\n",
       "      <td>2722.80</td>\n",
       "      <td>2.042265e+07</td>\n",
       "    </tr>\n",
       "    <tr>\n",
       "      <th>1</th>\n",
       "      <td>5/25/2018</td>\n",
       "      <td>BTCUSD</td>\n",
       "      <td>7584.15</td>\n",
       "      <td>7661.85</td>\n",
       "      <td>7326.94</td>\n",
       "      <td>7459.11</td>\n",
       "      <td>8491.93</td>\n",
       "      <td>6.342069e+07</td>\n",
       "    </tr>\n",
       "    <tr>\n",
       "      <th>2</th>\n",
       "      <td>5/24/2018</td>\n",
       "      <td>BTCUSD</td>\n",
       "      <td>7505.00</td>\n",
       "      <td>7734.99</td>\n",
       "      <td>7269.00</td>\n",
       "      <td>7584.15</td>\n",
       "      <td>11033.72</td>\n",
       "      <td>8.293137e+07</td>\n",
       "    </tr>\n",
       "    <tr>\n",
       "      <th>3</th>\n",
       "      <td>5/23/2018</td>\n",
       "      <td>BTCUSD</td>\n",
       "      <td>7987.70</td>\n",
       "      <td>8030.00</td>\n",
       "      <td>7433.19</td>\n",
       "      <td>7505.00</td>\n",
       "      <td>14905.99</td>\n",
       "      <td>1.148104e+08</td>\n",
       "    </tr>\n",
       "    <tr>\n",
       "      <th>4</th>\n",
       "      <td>5/22/2018</td>\n",
       "      <td>BTCUSD</td>\n",
       "      <td>8393.44</td>\n",
       "      <td>8400.00</td>\n",
       "      <td>7950.00</td>\n",
       "      <td>7987.70</td>\n",
       "      <td>6589.43</td>\n",
       "      <td>5.389753e+07</td>\n",
       "    </tr>\n",
       "  </tbody>\n",
       "</table>\n",
       "</div>"
      ],
      "text/plain": [
       "        Date  Symbol     Open     High      Low    Close  Volume From  \\\n",
       "0  5/26/2018  BTCUSD  7459.11  7640.46  7380.00  7520.00      2722.80   \n",
       "1  5/25/2018  BTCUSD  7584.15  7661.85  7326.94  7459.11      8491.93   \n",
       "2  5/24/2018  BTCUSD  7505.00  7734.99  7269.00  7584.15     11033.72   \n",
       "3  5/23/2018  BTCUSD  7987.70  8030.00  7433.19  7505.00     14905.99   \n",
       "4  5/22/2018  BTCUSD  8393.44  8400.00  7950.00  7987.70      6589.43   \n",
       "\n",
       "      Volume To  \n",
       "0  2.042265e+07  \n",
       "1  6.342069e+07  \n",
       "2  8.293137e+07  \n",
       "3  1.148104e+08  \n",
       "4  5.389753e+07  "
      ]
     },
     "execution_count": 2,
     "metadata": {},
     "output_type": "execute_result"
    }
   ],
   "source": [
    "# reading the data from the data/btc.csv \n",
    "df = pd.read_csv(\"data/btc.csv\")\n",
    "df.head(5)\n"
   ]
  },
  {
   "cell_type": "code",
   "execution_count": 3,
   "id": "eb2ba9ef",
   "metadata": {},
   "outputs": [
    {
     "data": {
      "text/plain": [
       "array([7520.  , 7459.11, 7584.15, ...,  378.  ,  378.  ,  370.  ])"
      ]
     },
     "execution_count": 3,
     "metadata": {},
     "output_type": "execute_result"
    }
   ],
   "source": [
    "\n",
    "# Get closing price of bitcoins\n",
    "data = df[\"Close\"].values\n",
    "\n",
    "data\n"
   ]
  },
  {
   "cell_type": "code",
   "execution_count": 4,
   "id": "61eded01",
   "metadata": {},
   "outputs": [],
   "source": [
    "# Standardizing the data\n",
    "scaler = StandardScaler()\n",
    "data = scaler.fit_transform(data.reshape(-1, 1))"
   ]
  },
  {
   "cell_type": "code",
   "execution_count": 5,
   "id": "4cdad694",
   "metadata": {},
   "outputs": [
    {
     "data": {
      "text/plain": [
       "Text(0, 0.5, 'Price')"
      ]
     },
     "execution_count": 5,
     "metadata": {},
     "output_type": "execute_result"
    },
    {
     "data": {
      "image/png": "[encoded data removed]",
      "text/plain": [
       "<Figure size 640x480 with 1 Axes>"
      ]
     },
     "metadata": {},
     "output_type": "display_data"
    }
   ],
   "source": [
    "plt.title('Bitcoin ko price over time')\n",
    "plt.plot(data, c=\"g\")\n",
    "plt.xlabel('Days')\n",
    "plt.ylabel('Price')\n"
   ]
  },
  {
   "cell_type": "code",
   "execution_count": 6,
   "id": "e39ac1ab",
   "metadata": {},
   "outputs": [],
   "source": [
    "# function to get data according to window size\n",
    "def get_data(data, window_size):\n",
    "    X = []\n",
    "    y = []\n",
    "    i = 0\n",
    "    while (i + window_size) <= len(data) - 1:\n",
    "        X.append(data[i:i+window_size])\n",
    "        y.append(data[i+window_size])\n",
    "        i = i + 1 \n",
    "    assert len(X) == len(y)\n",
    "    return X, y\n",
    "\n",
    "# consider window size 7 and get data\n",
    "X, y = get_data(data, window_size = 7)"
   ]
  },
  {
   "cell_type": "code",
   "execution_count": 7,
   "id": "926c3371",
   "metadata": {},
   "outputs": [
    {
     "data": {
      "text/plain": [
       "(1000, 7, 1)"
      ]
     },
     "execution_count": 7,
     "metadata": {},
     "output_type": "execute_result"
    }
   ],
   "source": [
    "#train (first 1000 points)\n",
    "\n",
    "X_train = np.array(X[:1000])\n",
    "y_train = np.array(y[:1000])\n",
    "#test split \n",
    "X_test= np.array(X[1000:])\n",
    "y_test = np.array(y[1000:])\n",
    "\n",
    "X_train.shape"
   ]
  },
  {
   "cell_type": "code",
   "execution_count": 8,
   "id": "5be2a751",
   "metadata": {},
   "outputs": [],
   "source": [
    "#  defining hyperparameters\n",
    "batch_size = 7\n",
    "window_size = 7\n",
    "hidden_layer = 256\n",
    "learning_rate = 0.001\n"
   ]
  },
  {
   "cell_type": "code",
   "execution_count": 9,
   "id": "489e8d1f",
   "metadata": {},
   "outputs": [],
   "source": [
    "# placeholders for input and output\n",
    "input = tf.placeholder(tf.float32, [batch_size, window_size, 1])\n",
    "target = tf.placeholder(tf.float32, [batch_size, 1])\n"
   ]
  },
  {
   "cell_type": "code",
   "execution_count": 10,
   "id": "25d43916",
   "metadata": {},
   "outputs": [],
   "source": [
    "# defining weights to use in LSTM cell\n",
    "\n",
    "# weights for input gate\n",
    "U_i = tf.Variable(tf.truncated_normal([1, hidden_layer], stddev=0.05))\n",
    "W_i = tf.Variable(tf.truncated_normal([hidden_layer, hidden_layer], stddev=0.05))\n",
    "b_i = tf.Variable(tf.zeros([hidden_layer]))\n",
    "\n",
    "# weights for forget gate\n",
    "U_f = tf.Variable(tf.truncated_normal([1, hidden_layer], stddev=0.05))\n",
    "W_f = tf.Variable(tf.truncated_normal([hidden_layer, hidden_layer], stddev=0.05))\n",
    "b_f = tf.Variable(tf.zeros([hidden_layer]))\n",
    "\n",
    "# weights for output gate\n",
    "U_o = tf.Variable(tf.truncated_normal([1, hidden_layer], stddev=0.05))\n",
    "W_o = tf.Variable(tf.truncated_normal([hidden_layer, hidden_layer], stddev=0.05))\n",
    "b_o = tf.Variable(tf.zeros([hidden_layer]))\n",
    "\n",
    "# weights for candidate state\n",
    "U_g = tf.Variable(tf.truncated_normal([1, hidden_layer], stddev=0.05))\n",
    "W_g = tf.Variable(tf.truncated_normal([hidden_layer, hidden_layer], stddev=0.05))\n",
    "b_g = tf.Variable(tf.zeros([hidden_layer]))\n",
    "\n",
    "# weights for output layer\n",
    "V = tf.Variable(tf.truncated_normal([hidden_layer, 1], stddev=0.05))\n",
    "b_v = tf.Variable(tf.zeros([1]))\n"
   ]
  },
  {
   "cell_type": "code",
   "execution_count": 11,
   "id": "f326480d",
   "metadata": {},
   "outputs": [],
   "source": [
    "# defininign the LSTM Cell\n",
    "\n",
    "def LSTM_cell(input, prev_hidden_state, prev_cell_state):\n",
    "    it = tf.sigmoid(tf.matmul(input, U_i) + tf.matmul(prev_hidden_state, W_i) + b_i)\n",
    "    ft = tf.sigmoid(tf.matmul(input, U_f) + tf.matmul(prev_hidden_state, W_f) + b_f)\n",
    "    ot = tf.sigmoid(tf.matmul(input, U_o) + tf.matmul(prev_hidden_state, W_o) + b_o)\n",
    "    gt = tf.tanh(tf.matmul(input, U_g) + tf.matmul(prev_hidden_state, W_g) + b_g)\n",
    "    ct = (prev_cell_state * ft) + (it * gt)\n",
    "    ht = ot * tf.tanh(ct)\n",
    "    return ct, ht"
   ]
  },
  {
   "cell_type": "code",
   "execution_count": 12,
   "id": "2a88810b",
   "metadata": {},
   "outputs": [],
   "source": [
    "\n",
    "# define forward propagratiun\n",
    "\n",
    "y_hat = []\n",
    "for i in range(batch_size):\n",
    "    hidden_state = np.zeros([1, hidden_layer], dtype=np.float32)\n",
    "    cell_state = np.zeros([1, hidden_layer], dtype=np.float32)\n",
    "    for t in range(window_size):\n",
    "        cell_state, hidden_state = LSTM_cell(tf.reshape(input[i][t], (-1, 1)), hidden_state, cell_state)\n",
    "    y_hat.append(tf.matmul(hidden_state, V) + b_v)"
   ]
  },
  {
   "cell_type": "code",
   "execution_count": 13,
   "id": "e9b095de",
   "metadata": {},
   "outputs": [
    {
     "name": "stdout",
     "output_type": "stream",
     "text": [
      "WARNING:tensorflow:From C:\\Users\\Nitro\\AppData\\Local\\Temp\\ipykernel_17772\\2676877476.py:5: The name tf.losses.mean_squared_error is deprecated. Please use tf.compat.v1.losses.mean_squared_error instead.\n",
      "\n",
      "WARNING:tensorflow:From C:\\Users\\Nitro\\AppData\\Local\\Temp\\ipykernel_17772\\2676877476.py:13: The name tf.train.AdamOptimizer is deprecated. Please use tf.compat.v1.train.AdamOptimizer instead.\n",
      "\n"
     ]
    }
   ],
   "source": [
    "# define back propagration\n",
    "losses = []\n",
    "\n",
    "for i in range(len(y_hat)):\n",
    "    losses.append(tf.losses.mean_squared_error(tf.reshape(target[i], (-1, 1)), y_hat[i]))\n",
    "loss = tf.reduce_mean(losses)\n",
    "\n",
    "# gradient clipping to avoid exploding gradient problem\n",
    "gradients = tf.gradients(loss, tf.trainable_variables())\n",
    "clipped, _ = tf.clip_by_global_norm(gradients, 4.0)\n",
    "\n",
    "# use adam optimizer\n",
    "optimizer = tf.train.AdamOptimizer(learning_rate).apply_gradients(zip(gradients, tf.trainable_variables()))\n"
   ]
  },
  {
   "cell_type": "code",
   "execution_count": 14,
   "id": "97f16712",
   "metadata": {},
   "outputs": [
    {
     "name": "stdout",
     "output_type": "stream",
     "text": [
      "Epoch 0, Loss: 0.1972496211528778\n",
      "Epoch 10, Loss: 0.04785190522670746\n",
      "Epoch 20, Loss: 0.029110105708241463\n",
      "Epoch 30, Loss: 0.018987987190485\n",
      "Epoch 40, Loss: 0.016560379415750504\n",
      "Epoch 50, Loss: 0.011786248534917831\n",
      "Epoch 60, Loss: 0.010050690732896328\n",
      "Epoch 70, Loss: 0.010416384786367416\n",
      "Epoch 80, Loss: 0.008825591765344143\n",
      "Epoch 90, Loss: 0.007889308966696262\n"
     ]
    }
   ],
   "source": [
    "# training LSTM for 1000 iteratoin\n",
    "\n",
    "session = tf.Session()\n",
    "session.run(tf.global_variables_initializer())\n",
    "\n",
    "epochs =  100\n",
    "\n",
    "for i in range(epochs):\n",
    "    train_predictions = []\n",
    "    index = 0\n",
    "    epoch_loss = []\n",
    "    while(index + batch_size) <= len(X_train):\n",
    "        X_batch = X_train[index:index+batch_size]\n",
    "        y_batch = y_train[index:index+batch_size]\n",
    "        predicted, loss_val, _ = session.run([y_hat, loss, optimizer], feed_dict={input:X_batch, target:y_batch})\n",
    "        epoch_loss.append(loss_val)\n",
    "        train_predictions.append(predicted)\n",
    "        index += batch_size\n",
    "    if (i % 10)== 0:\n",
    "        print(f\"Epoch {i}, Loss: {np.mean(epoch_loss)}\")"
   ]
  },
  {
   "cell_type": "code",
   "execution_count": 15,
   "id": "09904f6a",
   "metadata": {},
   "outputs": [
    {
     "data": {
      "text/plain": [
       "[[array([[-0.6036612]], dtype=float32),\n",
       "  array([[-0.6014818]], dtype=float32),\n",
       "  array([[-0.600371]], dtype=float32),\n",
       "  array([[-0.59931654]], dtype=float32),\n",
       "  array([[-0.5987138]], dtype=float32),\n",
       "  array([[-0.60006845]], dtype=float32),\n",
       "  array([[-0.59689677]], dtype=float32)]]"
      ]
     },
     "execution_count": 15,
     "metadata": {},
     "output_type": "execute_result"
    }
   ],
   "source": [
    "# making predictions using LSTM\n",
    "predicted_output = []\n",
    "i = 0\n",
    "\n",
    "while i+batch_size <= len(X_test):\n",
    "    output = session.run([y_hat],feed_dict={input:X_test[i:i+batch_size]})\n",
    "    i += batch_size\n",
    "    predicted_output.append(output)\n",
    "    \n",
    "predicted_output[0]"
   ]
  },
  {
   "cell_type": "code",
   "execution_count": 16,
   "id": "f4266a2f",
   "metadata": {},
   "outputs": [
    {
     "data": {
      "text/plain": [
       "array([[-0.6036612]], dtype=float32)"
      ]
     },
     "execution_count": 16,
     "metadata": {},
     "output_type": "execute_result"
    }
   ],
   "source": [
    "# flatten test predictions\n",
    "predicted_values_test = []\n",
    "for i in range(len(predicted_output)):\n",
    "    for j in range(len(predicted_output[i][0])):\n",
    "        predicted_values_test.append(predicted_output[i][0][j])\n",
    "\n",
    "predicted_values_test[0]\n"
   ]
  },
  {
   "cell_type": "code",
   "execution_count": 17,
   "id": "b067284a",
   "metadata": {},
   "outputs": [],
   "source": [
    "predicted_values_test = [x for x in predicted_values_test]"
   ]
  },
  {
   "cell_type": "code",
   "execution_count": 18,
   "id": "997a14b7",
   "metadata": {},
   "outputs": [
    {
     "data": {
      "image/png": "[encoded data removed]",
      "text/plain": [
       "<Figure size 1600x700 with 1 Axes>"
      ]
     },
     "metadata": {},
     "output_type": "display_data"
    }
   ],
   "source": [
    "# Converting list to NumPy array, then flatten\n",
    "predicted_values_test = np.array(predicted_values_test).reshape(-1)\n",
    "\n",
    "# Now ploting the graph\n",
    "plt.figure(figsize=(16, 7))\n",
    "plt.plot(data, label='Actual')\n",
    "plt.plot(predicted_values_test, label='Predicted')\n",
    "plt.legend()\n",
    "plt.xlabel('Days')\n",
    "plt.ylabel('Value')\n",
    "plt.title('Actual vs Predicted')\n",
    "plt.show()"
   ]
  },
  {
   "cell_type": "markdown",
   "id": "4555a0c8",
   "metadata": {},
   "source": [
    "Implementing Gru cell in tensor flow\n"
   ]
  },
  {
   "cell_type": "code",
   "execution_count": 19,
   "id": "1e323db1",
   "metadata": {},
   "outputs": [],
   "source": [
    "\n",
    "# Parameters\n",
    "vocab_size = 10\n",
    "hidden_size = 8\n",
    "sequence_length = 5\n",
    "batch_size = 1\n"
   ]
  },
  {
   "cell_type": "code",
   "execution_count": 20,
   "id": "129fc00b",
   "metadata": {},
   "outputs": [],
   "source": [
    "\n",
    "inputs = np.random.randint(0, vocab_size, size=(batch_size, sequence_length))\n",
    "\n",
    "# Build graph\n",
    "graph = tf.Graph()\n",
    "with graph.as_default():\n",
    "    # Placeholders\n",
    "    X = tf.placeholder(tf.int32, [batch_size, sequence_length], name=\"X\")\n",
    "    \n",
    "    # One-hot encode input\n",
    "    X_onehot = tf.one_hot(X, depth=vocab_size)\n",
    "\n",
    "    # Weights\n",
    "    init = tf.keras.initializers.glorot_uniform()\n",
    "\n",
    "    Uz = tf.get_variable(\"Uz\", [vocab_size, hidden_size], initializer=init)\n",
    "    Wz = tf.get_variable(\"Wz\", [hidden_size, hidden_size], initializer=init)\n",
    "    bz = tf.get_variable(\"bz\", [hidden_size], initializer=tf.zeros_initializer())\n",
    "\n",
    "    Ur = tf.get_variable(\"Ur\", [vocab_size, hidden_size], initializer=init)\n",
    "    Wr = tf.get_variable(\"Wr\", [hidden_size, hidden_size], initializer=init)\n",
    "    br = tf.get_variable(\"br\", [hidden_size], initializer=tf.zeros_initializer())\n",
    "\n",
    "    Uc = tf.get_variable(\"Uc\", [vocab_size, hidden_size], initializer=init)\n",
    "    Wc = tf.get_variable(\"Wc\", [hidden_size, hidden_size], initializer=init)\n",
    "    bc = tf.get_variable(\"bc\", [hidden_size], initializer=tf.zeros_initializer())\n",
    "\n",
    "    V = tf.get_variable(\"V\", [hidden_size, vocab_size], initializer=init)\n",
    "    by = tf.get_variable(\"by\", [vocab_size], initializer=tf.zeros_initializer())\n",
    "\n",
    "    h_t = tf.zeros([batch_size, hidden_size])\n",
    "    outputs = []\n",
    "\n",
    "    for t in range(sequence_length):\n",
    "        x_t = X_onehot[:, t, :]  # shape: [batch_size, vocab_size]\n",
    "        zt = tf.sigmoid(tf.matmul(x_t, Uz) + tf.matmul(h_t, Wz) + bz)\n",
    "        rt = tf.sigmoid(tf.matmul(x_t, Ur) + tf.matmul(h_t, Wr) + br)\n",
    "        ct = tf.tanh(tf.matmul(x_t, Uc) + tf.matmul(rt * h_t, Wc) + bc)\n",
    "        h_t = (1 - zt) * ct + zt * h_t\n",
    "        y_hat_t = tf.matmul(h_t, V) + by\n",
    "        outputs.append(y_hat_t)\n",
    "\n",
    "    outputs_stacked = tf.stack(outputs, axis=1)  \n"
   ]
  },
  {
   "cell_type": "code",
   "execution_count": 21,
   "id": "aaa6e6d3",
   "metadata": {},
   "outputs": [
    {
     "name": "stdout",
     "output_type": "stream",
     "text": [
      "Input: [[3 9 5 9 4]]\n",
      "Output shape: (1, 5, 10)\n"
     ]
    }
   ],
   "source": [
    "\n",
    "# Run session\n",
    "with tf.Session(graph=graph) as sess:\n",
    "    sess.run(tf.global_variables_initializer())\n",
    "    result = sess.run(outputs_stacked, feed_dict={X: inputs})\n",
    "\n",
    "print(\"Input:\", inputs)\n",
    "print(\"Output shape:\", result.shape)\n"
   ]
  }
 ],
 "metadata": {
  "kernelspec": {
   "display_name": "Python 3",
   "language": "python",
   "name": "python3"
  },
  "language_info": {
   "codemirror_mode": {
    "name": "ipython",
    "version": 3
   },
   "file_extension": ".py",
   "mimetype": "text/x-python",
   "name": "python",
   "nbconvert_exporter": "python",
   "pygments_lexer": "ipython3",
   "version": "3.12.0"
  }
 },
 "nbformat": 4,
 "nbformat_minor": 5
}

{
 "cells": [
  {
   "cell_type": "markdown",
   "id": "dcd3517f",
   "metadata": {},
   "source": [
    "<h1>Submitted by : Ishan Ojha , CS-21 Assignment no : 3 </h1>"
   ]
  },
  {
   "cell_type": "markdown",
   "id": "8b2678cb",
   "metadata": {},
   "source": [
    "<h2> performing gradient descent in regression </h2>"
   ]
  },
  {
   "cell_type": "code",
   "execution_count": 1,
   "id": "dc716d95",
   "metadata": {},
   "outputs": [],
   "source": [
    "import warnings\n",
    "warnings.filterwarnings('ignore')\n",
    "import random\n",
    "import math\n",
    "import numpy as np\n",
    "from matplotlib import pyplot as plt\n",
    "%matplotlib inline"
   ]
  },
  {
   "cell_type": "code",
   "execution_count": 2,
   "id": "e9e8e894",
   "metadata": {},
   "outputs": [
    {
     "name": "stdout",
     "output_type": "stream",
     "text": [
      "[-0.32055787 -0.17368936]\n",
      "First column representing x value -0.3205578739822695\n",
      "First column representing y value -0.17368935640454444\n"
     ]
    }
   ],
   "source": [
    "# generating some random data  points with 500 points and 2 columns\n",
    "data = np.random.randn(500, 2)\n",
    "print (data[0])\n",
    "# first column indicates x value and second column indicates y value\n",
    "print (\"First column representing x value\",data[0,0])\n",
    "print (\"First column representing y value\",data[0,1])"
   ]
  },
  {
   "cell_type": "markdown",
   "id": "d18f7fd3",
   "metadata": {},
   "source": [
    "we know that equation of linear regression is expressed as : y ^ = mx + b  . we know slope = theta so defining theta we get"
   ]
  },
  {
   "cell_type": "code",
   "execution_count": 3,
   "id": "0ef50150",
   "metadata": {},
   "outputs": [
    {
     "name": "stdout",
     "output_type": "stream",
     "text": [
      "[0. 0.]\n"
     ]
    }
   ],
   "source": [
    "theta = np.zeros(2)\n",
    "print(theta)\n",
    "# theta 0 representing the value of m and theta 1 represents the value of b "
   ]
  },
  {
   "cell_type": "markdown",
   "id": "a7cf2a4e",
   "metadata": {},
   "source": [
    "<h4>Loss function </h4>"
   ]
  },
  {
   "cell_type": "code",
   "execution_count": 4,
   "id": "8ab04a11",
   "metadata": {},
   "outputs": [
    {
     "data": {
      "text/plain": [
       "0.937730155630946"
      ]
     },
     "execution_count": 4,
     "metadata": {},
     "output_type": "execute_result"
    }
   ],
   "source": [
    "def loss_function(data,theta):\n",
    "    \n",
    "    # getting m and b \n",
    "    m = theta[0]\n",
    "    b = theta[1]\n",
    "    \n",
    "    loss = 0\n",
    "    \n",
    "    #for each iteration\n",
    "    for i in range(0, len(data)):\n",
    "        \n",
    "        #get x and y\n",
    "        x = data[i, 0]\n",
    "        y = data[i, 1]\n",
    "        \n",
    "        # to predict the value of y \n",
    "        y_hat = (m*x + b)\n",
    "        \n",
    "        # to compute loss as given in quation (2)\n",
    "        loss = loss + ((y - (y_hat)) ** 2)\n",
    "        \n",
    "    #mean sqaured error\n",
    "    mse = loss / float(len(data))\n",
    "        \n",
    "    return mse\n",
    "\n",
    "loss_function(data, theta)"
   ]
  },
  {
   "cell_type": "code",
   "execution_count": 5,
   "id": "761ad7cd",
   "metadata": {},
   "outputs": [
    {
     "data": {
      "text/plain": [
       "array([4.39157998e-04, 3.13893518e-05])"
      ]
     },
     "execution_count": 5,
     "metadata": {},
     "output_type": "execute_result"
    }
   ],
   "source": [
    "#computing the gradient of the loss function\n",
    "def compute_gradients(data, theta):\n",
    "\n",
    "    gradients = np.zeros(2)\n",
    "    \n",
    "    #total number of data points\n",
    "    N = float(len(data))\n",
    "    \n",
    "    m = theta[0]\n",
    "    b = theta[1]\n",
    "    \n",
    "    #for each data point\n",
    "    for i in range(len(data)):\n",
    "        x = data[i, 0]\n",
    "        y = data[i, 1]\n",
    "           \n",
    "        #gradient of loss function with respect to m as given in (3)\n",
    "        gradients[0] += - (2 / N) * x * (y - (( m* x) + b))\n",
    "        \n",
    "        #gradient of loss funcction with respect to b as given in (4)\n",
    "        gradients[1] += - (2 / N) * (y - ((theta[0] * x) + b))\n",
    "    \n",
    "    #add epsilon to avoid division by zero error\n",
    "    epsilon = 1e-6 \n",
    "    gradients = np.divide(gradients, N + epsilon)\n",
    "\n",
    "    return gradients\n",
    "compute_gradients(data,theta)"
   ]
  },
  {
   "cell_type": "code",
   "execution_count": 6,
   "id": "030a308a",
   "metadata": {},
   "outputs": [],
   "source": [
    "#updating the model parameters\n",
    "num_iterations = 50000\n",
    "#learningrate\n",
    "lr = 1e-2\n",
    "#defining a list called loss\n",
    "loss = []\n",
    "theta = np.zeros(2)\n",
    "for t in range(num_iterations):\n",
    "#compute gradients\n",
    "    gradients = compute_gradients(data, theta)\n",
    "#update parameter\n",
    "    theta = theta - (lr*gradients)\n",
    "#store the loss\n",
    "    loss.append(loss_function(data,theta))"
   ]
  },
  {
   "cell_type": "code",
   "execution_count": 7,
   "id": "70866cf2",
   "metadata": {},
   "outputs": [
    {
     "data": {
      "text/plain": [
       "Text(0.5, 1.0, 'Gradient Descent')"
      ]
     },
     "execution_count": 7,
     "metadata": {},
     "output_type": "execute_result"
    },
    {
     "data": {
      "image/png": "[encoded data removed]",
      "text/plain": [
       "<Figure size 640x480 with 1 Axes>"
      ]
     },
     "metadata": {},
     "output_type": "display_data"
    }
   ],
   "source": [
    "# Plot loss function\n",
    "plt.plot(loss,c=\"g\")\n",
    "plt.grid()\n",
    "plt.xlabel('Training Iterations')\n",
    "plt.ylabel('Cost')\n",
    "plt.title('Gradient Descent')"
   ]
  },
  {
   "cell_type": "markdown",
   "id": "352cd252",
   "metadata": {},
   "source": [
    "<h4>gradient descent vs stochastic gradient descent</h4>\n"
   ]
  },
  {
   "cell_type": "code",
   "execution_count": 8,
   "id": "392fcf89",
   "metadata": {},
   "outputs": [],
   "source": [
    "def minibatch(data, theta, lr = 1e-2, minibatch_ratio = 0.01, num_iterations = 1000):\n",
    "    minibatch_size = int(math.ceil(len(data) * minibatch_ratio))\n",
    "    for t in range(num_iterations):\n",
    "        sample_size = random.sample(range(len(data)), minibatch_size)\n",
    "        np.random.shuffle(data)\n",
    "\n",
    "\n",
    "        sample_data = data[0:sample_size[0], :]\n",
    "\n",
    "        #Compute the gradients for sample_data with respect to theta:\n",
    "\n",
    "        grad = compute_gradients(sample_data, theta)\n",
    "\n",
    "\n",
    "        theta = theta - (lr * grad)\n",
    "    return theta"
   ]
  },
  {
   "cell_type": "markdown",
   "id": "075b6cca",
   "metadata": {},
   "source": [
    "<h4>momentum based gradient descent</h4>"
   ]
  },
  {
   "cell_type": "code",
   "execution_count": 9,
   "id": "99e60b9a",
   "metadata": {},
   "outputs": [],
   "source": [
    "\n",
    "def momentum(data, theta, lr = 1e-2, gamma = 0.9, num_iterations = 1000):\n",
    "\n",
    "    vt = np.zeros(theta.shape[0])\n",
    "\n",
    "    for t in range(num_iterations):\n",
    "# computing gradients with respect to theta:\n",
    "\n",
    "        gradients = compute_gradients(data, theta)\n",
    "\n",
    "\n",
    "        vt = gamma * vt + lr * gradients\n",
    "\n",
    "\n",
    "        theta = theta - vt\n",
    "    return theta"
   ]
  },
  {
   "cell_type": "markdown",
   "id": "36bc95d2",
   "metadata": {},
   "source": [
    "<h4>adaptive method of gradeint descent</h4>"
   ]
  },
  {
   "cell_type": "code",
   "execution_count": 10,
   "id": "daa412f7",
   "metadata": {},
   "outputs": [],
   "source": [
    "#adagrad function\n",
    "def AdaGrad(data, theta, lr = 1e-2, epsilon = 1e-8, num_iterations = 10000):\n",
    "# Defining the variable called gradients_sum to hold the sum of gradients and\n",
    "# initializing them with zeros:\n",
    "    gradients_sum = np.zeros(theta.shape[0])\n",
    "    for t in range(num_iterations):\n",
    "#  compute the gradients of loss with respect to theta:\n",
    "        gradients = compute_gradients(data, theta)\n",
    "        gradients_sum += gradients ** 2\n",
    "        gradient_update = gradients / (np.sqrt(gradients_sum + epsilon))\n",
    "        theta = theta - (lr * gradient_update)\n",
    "    return theta"
   ]
  }
 ],
 "metadata": {
  "kernelspec": {
   "display_name": "Python 3",
   "language": "python",
   "name": "python3"
  },
  "language_info": {
   "codemirror_mode": {
    "name": "ipython",
    "version": 3
   },
   "file_extension": ".py",
   "mimetype": "text/x-python",
   "name": "python",
   "nbconvert_exporter": "python",
   "pygments_lexer": "ipython3",
   "version": "3.12.0"
  }
 },
 "nbformat": 4,
 "nbformat_minor": 5
}

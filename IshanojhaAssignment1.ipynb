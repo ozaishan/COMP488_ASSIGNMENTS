{
 "cells": [
  {
   "cell_type": "code",
   "execution_count": 16,
   "id": "c48b2c3f-188b-49b4-8a71-f142e89dbed6",
   "metadata": {},
   "outputs": [],
   "source": [
    "#Submitted by : Ishan Ojha CS-21 ( IV / I )  COMP 488 Assignment no 1 \n",
    "Building a neural network from scratch"
   ]
  },
  {
   "cell_type": "code",
   "execution_count": 1,
   "id": "8b66971b-6a05-4575-bac5-c4d0cda634f5",
   "metadata": {},
   "outputs": [],
   "source": [
    "#Import mathplotlib and numpy\n",
    "import numpy as np\n",
    "import matplotlib.pyplot as plt\n",
    "%matplotlib inline"
   ]
  },
  {
   "cell_type": "code",
   "execution_count": 2,
   "id": "f2e3c665-22a9-4549-9e65-09b761e84da8",
   "metadata": {},
   "outputs": [],
   "source": [
    "#creating X-OR data set where set Y represents true label ie. the value for X set which remains true\n",
    "x = np.array([ [0, 1], [1, 0], [1, 1],[0, 0] ])\n",
    "y = np.array([ [1], [1], [0], [0]])"
   ]
  },
  {
   "cell_type": "code",
   "execution_count": 3,
   "id": "8038abba-f400-462f-82ba-1f61fc41774c",
   "metadata": {},
   "outputs": [],
   "source": [
    "#node numbers\n",
    "num_input = 2\n",
    "num_hidden = 5\n",
    "num_output = 1"
   ]
  },
  {
   "cell_type": "code",
   "execution_count": 4,
   "id": "92eedf21-3673-402c-baa9-fd3e07f1515c",
   "metadata": {},
   "outputs": [],
   "source": [
    "#random values : Initializing the weights and bias randomly. \n",
    "#hidden layer weights:\n",
    "Wxh = np.random.randn(num_input,num_hidden)\n",
    "bh = np.zeros((1,num_hidden))"
   ]
  },
  {
   "cell_type": "code",
   "execution_count": 5,
   "id": "ccad0c6c-c653-4b8c-9311-7413d567dc21",
   "metadata": {},
   "outputs": [],
   "source": [
    "\n",
    "Why = np.random.randn (num_hidden,num_output)\n",
    "by = np.zeros((1,num_output))"
   ]
  },
  {
   "cell_type": "code",
   "execution_count": 6,
   "id": "682cb453-9922-4956-8a2d-9544d6b411f2",
   "metadata": {},
   "outputs": [],
   "source": [
    "#sigmoid function definition and derivative of the sigmoid funcion\n",
    "def sigmoid(z):\n",
    "    return 1 / (1+np.exp(-z))"
   ]
  },
  {
   "cell_type": "code",
   "execution_count": 7,
   "id": "17595ced-d906-49c8-8aa2-83ad9503c2fc",
   "metadata": {},
   "outputs": [],
   "source": [
    "def sigmoid_derivative(z):\n",
    "    return np.exp(-z)/((1+np.exp(-z))**2)"
   ]
  },
  {
   "cell_type": "code",
   "execution_count": 8,
   "id": "cf0e0428-dd0b-43da-8e05-a086057e636b",
   "metadata": {},
   "outputs": [],
   "source": [
    "#forward propagation \n",
    "def forward_prop(X,Wxh,Why):\n",
    "    z1 = np.dot(X,Wxh) + bh\n",
    "    a1 = sigmoid(z1)\n",
    "    z2 = np.dot(a1,Why) + by\n",
    "    y_hat = sigmoid(z2)\n",
    "    return z1,a1,z2,y_hat"
   ]
  },
  {
   "cell_type": "code",
   "execution_count": 9,
   "id": "20b49725-5927-43f5-8481-d65388aa4819",
   "metadata": {},
   "outputs": [],
   "source": [
    "#backward propagation\n",
    "def backward_prop(y_hat, z1, a1, z2):\n",
    "    delta2 = np.multiply(-(y-y_hat),sigmoid_derivative(z2))\n",
    "    dJ_dWhy = np.dot(a1.T, delta2)\n",
    "    delta1 = np.dot(delta2,Why.T)*sigmoid_derivative(z1)\n",
    "    dJ_dWxh = np.dot(x.T, delta1)\n",
    "\n",
    "    return dJ_dWxh, dJ_dWhy"
   ]
  },
  {
   "cell_type": "code",
   "execution_count": 10,
   "id": "d6d69fa2-06ae-4564-9156-66a13011c7f7",
   "metadata": {},
   "outputs": [],
   "source": [
    "#defining cost function\n",
    "def cost_function(y, y_hat):\n",
    "    J = 0.5*sum((y-y_hat)**2)\n",
    "    return J"
   ]
  },
  {
   "cell_type": "code",
   "execution_count": 11,
   "id": "f874164d-be78-4331-be3e-e4b0dbc23252",
   "metadata": {},
   "outputs": [],
   "source": [
    "#setting the learning rate and number of training iterations\n",
    "alpha = 0.01\n",
    "num_iterations = 5000"
   ]
  },
  {
   "cell_type": "code",
   "execution_count": 12,
   "id": "33ca0892-6fa1-41de-9b83-61efabfa8922",
   "metadata": {},
   "outputs": [],
   "source": [
    "# Training Loop\n",
    "\n",
    "cost = [] # Keep track of costs to plot later\n",
    "\n",
    "for i in range(num_iterations):\n",
    "    z1,a1,z2,y_hat = forward_prop(x,Wxh,Why)\n",
    "    dJ_dWxh, dJ_dWhy = backward_prop(y_hat, z1, a1, z2)\n",
    "    \n",
    "    # Update weights\n",
    "    Wxh = Wxh -alpha * dJ_dWxh\n",
    "    Why = Why -alpha * dJ_dWhy\n",
    "    \n",
    "    # Compute cost\n",
    "    c = cost_function(y, y_hat)\n",
    "    cost.append(c)"
   ]
  },
  {
   "cell_type": "code",
   "execution_count": 14,
   "id": "18865558-72fb-4e87-b469-5f101b01711b",
   "metadata": {},
   "outputs": [
    {
     "data": {
      "text/plain": [
       "Text(0, 0.5, 'Cost')"
      ]
     },
     "execution_count": 14,
     "metadata": {},
     "output_type": "execute_result"
    },
    {
     "data": {
      "image/png": "[encoded data removed]",
      "text/plain": [
       "<Figure size 640x480 with 1 Axes>"
      ]
     },
     "metadata": {},
     "output_type": "display_data"
    }
   ],
   "source": [
    "#Output\n",
    "plt.grid()\n",
    "plt.plot(range(num_iterations),cost,c=\"g\")\n",
    "plt.title('Cost Function')\n",
    "plt.xlabel('Training Iterations')\n",
    "plt.ylabel('Cost')"
   ]
  },
  {
   "cell_type": "code",
   "execution_count": null,
   "id": "adcd0ac0-9a43-4db8-b30c-a15cd450454a",
   "metadata": {},
   "outputs": [],
   "source": []
  }
 ],
 "metadata": {
  "kernelspec": {
   "display_name": "Python 3 (ipykernel)",
   "language": "python",
   "name": "python3"
  },
  "language_info": {
   "codemirror_mode": {
    "name": "ipython",
    "version": 3
   },
   "file_extension": ".py",
   "mimetype": "text/x-python",
   "name": "python",
   "nbconvert_exporter": "python",
   "pygments_lexer": "ipython3",
   "version": "3.12.0"
  }
 },
 "nbformat": 4,
 "nbformat_minor": 5
}
